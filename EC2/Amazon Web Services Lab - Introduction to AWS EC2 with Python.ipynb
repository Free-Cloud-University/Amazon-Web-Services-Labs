{
 "cells": [
  {
   "cell_type": "markdown",
   "id": "b79f92e4",
   "metadata": {},
   "source": [
    "# Amazon Web Services Lab: Introduction to AWS EC2 with Python\n",
    "*By Nile Dixon from Free Cloud University*\n",
    "\n",
    "**Goal** The purpose of this lab is to expose you to AWS EC2 with Python. By the end of this lab, you should be able to:\n",
    "* "
   ]
  },
  {
   "cell_type": "code",
   "execution_count": null,
   "id": "790ea0fd",
   "metadata": {},
   "outputs": [],
   "source": [
    "!python --version"
   ]
  },
  {
   "cell_type": "code",
   "execution_count": null,
   "id": "3e6faa2b",
   "metadata": {},
   "outputs": [],
   "source": [
    "!pip install boto3"
   ]
  },
  {
   "cell_type": "code",
   "execution_count": 4,
   "id": "d61bfa9c",
   "metadata": {},
   "outputs": [],
   "source": [
    "import boto3\n",
    "import json \n",
    "\n",
    "#Loading in credentials from the credentials.json file in the same directory\n",
    "creds = {}\n",
    "with open('credentials.json','r') as file_to_read:\n",
    "    creds = json.load(file_to_read)\n",
    "\n",
    "#Logging into AWS S3 bucket with credentials\n",
    "ec2 = boto3.client(\n",
    "    'ec2',\n",
    "    region_name = 'us-east-1',\n",
    "    aws_access_key_id=creds['aws_access_key_id'],\n",
    "    aws_secret_access_key=creds['aws_access_secret_key']\n",
    ")"
   ]
  },
  {
   "cell_type": "code",
   "execution_count": null,
   "id": "9ab691b5",
   "metadata": {},
   "outputs": [],
   "source": []
  }
 ],
 "metadata": {
  "kernelspec": {
   "display_name": "Python 3",
   "language": "python",
   "name": "python3"
  },
  "language_info": {
   "codemirror_mode": {
    "name": "ipython",
    "version": 3
   },
   "file_extension": ".py",
   "mimetype": "text/x-python",
   "name": "python",
   "nbconvert_exporter": "python",
   "pygments_lexer": "ipython3",
   "version": "3.8.8"
  }
 },
 "nbformat": 4,
 "nbformat_minor": 5
}
