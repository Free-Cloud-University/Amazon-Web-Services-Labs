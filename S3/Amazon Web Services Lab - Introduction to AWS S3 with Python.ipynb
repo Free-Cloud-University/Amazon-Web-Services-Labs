{
 "cells": [
  {
   "cell_type": "markdown",
   "id": "1a032117",
   "metadata": {},
   "source": [
    "# Amazon Web Services Lab: Introduction to AWS S3 with Python\n",
    "*By Nile Dixon from Free Cloud University*\n",
    "\n",
    "**Goal** The purpose of this lab is to expose you to Amazon S3 with Python. By the end of this lab, you should be able to:\n",
    "* Create an S3 Bucket\n",
    "* List your S3 Buckets\n",
    "* List files within an S3 Bucket\n",
    "* Upload a file to that S3 Bucket\n",
    "* Download a file from that S3 Bucket\n",
    "* Delete a file from an S3 Bucket"
   ]
  },
  {
   "cell_type": "markdown",
   "id": "05137a18",
   "metadata": {},
   "source": [
    "## Make sure that you have boto3 installed\n",
    "\n",
    "Before you can continue with this lab, you need to have the following installed:\n",
    "* Python 3\n",
    "* boto3 library (via pip)\n",
    "* Amazon Web Services Account\n",
    "\n",
    "You can check to see if Python is installed by using the command below:"
   ]
  },
  {
   "cell_type": "code",
   "execution_count": null,
   "id": "c4cc9d00",
   "metadata": {},
   "outputs": [],
   "source": [
    "!python --version"
   ]
  },
  {
   "cell_type": "markdown",
   "id": "24af1d8e",
   "metadata": {},
   "source": [
    "You can also install boto3 using the command below:"
   ]
  },
  {
   "cell_type": "code",
   "execution_count": null,
   "id": "b264e5c4",
   "metadata": {},
   "outputs": [],
   "source": [
    "!pip install boto3"
   ]
  },
  {
   "cell_type": "markdown",
   "id": "ebb4fa02",
   "metadata": {},
   "source": [
    "## What is S3\n",
    "\n",
    "Amazon Simple Storage System (also known as S3) is service provided by Amazon Web Services which allows you to store files in the cloud. It gives developers access to quick and reliable data storage around the world. S3 is a pay-as-you-go service that only charges you for the amount of storage you use. You never pay for more or less than what you need. \n"
   ]
  },
  {
   "cell_type": "markdown",
   "id": "c3ccd0f5",
   "metadata": {},
   "source": [
    "## Establishing a Connection to AWS S3 Using Boto3\n",
    "\n",
    "Before you can start storing files using S3, retrieve \n",
    "\n",
    "**Try It Out Yourself:** Create a connection to S3 by running the code below. Before you do that, make sure to edit the credentials.json file in the same directory."
   ]
  },
  {
   "cell_type": "code",
   "execution_count": null,
   "id": "4bda60a0",
   "metadata": {},
   "outputs": [],
   "source": [
    "import boto3\n",
    "import json \n",
    "\n",
    "#Loading in credentials from the credentials.json file in the same directory\n",
    "creds = {}\n",
    "with open('credentials.json','r') as file_to_read:\n",
    "    creds = json.load(file_to_read)\n",
    "\n",
    "#Logging into AWS S3 bucket with credentials\n",
    "s3 = boto3.client(\n",
    "    's3',\n",
    "    aws_access_key_id=creds['aws_access_key_id'],\n",
    "    aws_secret_access_key=creds['aws_access_secret_key']\n",
    ")"
   ]
  },
  {
   "cell_type": "markdown",
   "id": "a0e99f82",
   "metadata": {},
   "source": [
    "## Creating an S3 Bucket\n",
    "\n",
    "Creating an S3 Bucket is very simple using the boto3 library. After creating the S3 client in the **Try It Out Yourself** above, you can now create an S3 bucket by using the `create_bucket()` method. \n",
    "\n",
    "```python\n",
    "#Code comment\n",
    "s3.create_bucket(\n",
    "    ACL='private'|'public-read'|'public-read-write'|'authenticated-read',\n",
    "    Bucket='string',\n",
    "    CreateBucketConfiguration={\n",
    "        'LocationConstraint': 'af-south-1'|'ap-east-1'|'ap-northeast-1'|'ap-northeast-2'|'ap-northeast-3'|'ap-south-1'|'ap-southeast-1'|'ap-southeast-2'|'ca-central-1'|'cn-north-1'|'cn-northwest-1'|'EU'|'eu-central-1'|'eu-north-1'|'eu-south-1'|'eu-west-1'|'eu-west-2'|'eu-west-3'|'me-south-1'|'sa-east-1'|'us-east-2'|'us-gov-east-1'|'us-gov-west-1'|'us-west-1'|'us-west-2'\n",
    "    },\n",
    "    GrantFullControl='string',\n",
    "    GrantRead='string',\n",
    "    GrantReadACP='string',\n",
    "    GrantWrite='string',\n",
    "    GrantWriteACP='string',\n",
    "    ObjectLockEnabledForBucket=True|False\n",
    ")\n",
    "\n",
    "```\n",
    "\n",
    "The only required parameter for the `create_bucket()` method is *Bucket* which is to create the name of the bucket. Some of the other parameters you can set include:\n",
    "* **ACL**: This method parameter controls the privacy settings of the objects in the bucket. \n",
    "* **CreateBucketConfiguration**: This method parameter controls some of the configuration settings for the S3 bucket. There is only 1 configuration you can set: the location constraint, which allows you to require the bucket to be in a specific region (either for late\n",
    "* **ObjectLockEnabledForBucket**:"
   ]
  },
  {
   "cell_type": "markdown",
   "id": "9873ba67",
   "metadata": {},
   "source": [
    "**Try It Out Yourself**: Create an S3 bucket by filling in the `None` values with the appropriate values.\n",
    "\n",
    "**Note**: If you get a `BucketAlreadyExists` error below, that means there is an account that already has claimed that name for a bucket. Choose a different name, preferably a name with a unique prefix."
   ]
  },
  {
   "cell_type": "code",
   "execution_count": null,
   "id": "50748598",
   "metadata": {},
   "outputs": [],
   "source": [
    "#Creating an S3 Bucket\n",
    "s3.create_bucket(\n",
    "    Bucket = None\n",
    ")"
   ]
  },
  {
   "cell_type": "markdown",
   "id": "a7dca34c",
   "metadata": {},
   "source": [
    "## Listing all S3 Buckets in Account\n",
    "\n",
    "If you forgot which buckets are in your account, you can list the buckets by using the `list_buckets()` method.\n",
    "\n",
    "```python\n",
    "#List all available buckets in account\n",
    "s3.list_buckets()\n",
    "```\n",
    "\n",
    "**Try It Out Yourself**: Create an additional bucket using the `create_bucket()` method. Then call the `list_buckets()` method below."
   ]
  },
  {
   "cell_type": "code",
   "execution_count": null,
   "id": "e304804b",
   "metadata": {},
   "outputs": [],
   "source": [
    "s3.create_bucket(\n",
    "    Bucket = None\n",
    ")\n",
    "s3.list_buckets()"
   ]
  },
  {
   "cell_type": "markdown",
   "id": "8d3f8cd4",
   "metadata": {},
   "source": [
    "## Deleting S3 Buckets\n",
    "\n",
    "You might not need this many S3 buckets in your account. Let's delete one of the buckets created above using the `delete_bucket()` method.\n",
    "\n",
    "```python\n",
    "#How to delete an S3 bucket\n",
    "s3.delete_bucket(\n",
    "    Bucket = 'string'\n",
    ")\n",
    "```\n",
    "\n",
    "**Bucket** is the only required parameter that you need, which is the name of the bucket you want to create.\n",
    "\n",
    "**Try It Out Yourself**: Delete one of the buckets that you created above by using the `delete_bucket()` method. Replace the `None` values with the appropriate parameter values."
   ]
  },
  {
   "cell_type": "code",
   "execution_count": null,
   "id": "01d9bbb4",
   "metadata": {},
   "outputs": [],
   "source": [
    "s3.delete_bucket(\n",
    "    Bucket = None\n",
    ")"
   ]
  },
  {
   "cell_type": "markdown",
   "id": "90ac76ce",
   "metadata": {},
   "source": [
    "## Uploading a File to S3\n",
    "\n",
    "Now that you got the hang of creating, viewing, and deleting S3 buckets, let's start moving data into these buckets. In this directory, there is a CSV file that contains mixed beverages receipts. To upload the file to S3, you can use the `upload_fileobj()` method:\n",
    "\n",
    "```python\n",
    "#How to upload file to S3 Bucket\n",
    "with open('filename', 'rb') as data:\n",
    "    s3.upload_fileobj(data, 'bucket','key')\n",
    "\n",
    "```\n",
    "Where `filename` contains the file path of the file you want to upload.\n",
    "The first and second parameters you pass into the `upload_fileobj()` method is the file object created by the `open()` function and name of the bucket you want to save the file to. The third parameter is a unique reference you create for the file when in the bucket. When using `upload_fileobj()` method, the data must be read in as bytes, hence why we used `rb` instead of `r` for the second parameter of the `open()` function.\n",
    "\n",
    "**Try It Out Yourself**: Try uploading the `Bid_Book_Spreadsheet_2016.csv` file to an S3 bucket you created by filling in the `None` values with the appropriate values."
   ]
  },
  {
   "cell_type": "code",
   "execution_count": null,
   "id": "d35295ae",
   "metadata": {},
   "outputs": [],
   "source": [
    "filename = 'Bid_Book_Spreadsheet_2016.csv'\n",
    "with open(filename, 'rb') as data:\n",
    "    s3.upload_fileobj(data, None, None)"
   ]
  },
  {
   "cell_type": "markdown",
   "id": "21c7f65d",
   "metadata": {},
   "source": [
    "## Listing Files in an S3 Bucket\n",
    "\n",
    "Congratulations! You now just uploaded a file to an S3 bucket. The same code that you used to upload a file to an S3 bucket can also be used to update the contents of a file in an S3 bucket. You just need to keep the filenames and keys the same.\n",
    "\n",
    "However, what happens if you forget what file is in your S3 buckets? You can easily check by using the `list_objects()` method. Simply pass in the name of the bucket you want to check and you will be able to see up to 1000 items in your bucket.\n",
    "\n",
    "```python\n",
    "#Example of how to use the list_objects() method\n",
    "response = s3.list_objects(\n",
    "    Bucket = 'string'\n",
    ")\n",
    "````\n",
    "\n",
    "There are some other parameters you can use with this method, including:\n",
    "* **Delimiter**: A character you use to group the keys.\n",
    "* **EncodingType**: S3 will encode your object keys using the encoding type passed in here.\n",
    "* **Marker**: The beginning point at which you want S3 to start listing objects.\n",
    "* **MaxKeys**: The maximum number of keys you want returned in this request. The max is 1000.\n",
    "* **Prefix**: If you want to limit the objects returned to have a certain prefix, use this parameter.\n",
    "\n",
    "\n",
    "**Try It Out Yourself**: Check to see if you uploaded the *Bid_Book_Spreadsheet_2016.csv* file to your S3 bucket by filling out the None values below. You should see a value in the dictionary returned called `Key` and it contain the name of the key for the file you uploaded."
   ]
  },
  {
   "cell_type": "code",
   "execution_count": null,
   "id": "aae2a8ed",
   "metadata": {},
   "outputs": [],
   "source": [
    "s3.list_objects(\n",
    "    Bucket = None\n",
    ")"
   ]
  },
  {
   "cell_type": "markdown",
   "id": "46683433",
   "metadata": {},
   "source": [
    "## Downloading a File from an S3 Bucket\n",
    "\n",
    "Now that you know how to upload files to an S3 bucket and see the contents inside a bucket, you will learn how to download a file from an S3 bucket. You do that by using the `download_fileobj()` method. Similar to the `upload_fileobj()` method, you will pass in the key of the file you want to download. Here is an example below on how to download a file from S3:\n",
    "\n",
    "```python\n",
    "#Example on how to download a file from an S3 Bucket\n",
    "with open('filename','wb') as file_to_write:\n",
    "    s3.download_fileobj('NAME_OF_BUCKET','NAME_OF_KEY',file_to_write)\n",
    "\n",
    "```\n",
    "\n",
    "The first parameter of the `download_fileobj()` method is the name of the bucket that contains the object you want to download. The second parameter is the key, which is the file in the bucket you want to download. The third parameter is the file object you want to write to.\n",
    "\n",
    "**Try It Out Yourself**: Fill in the `None` values to download the file you just uploaded to S3."
   ]
  },
  {
   "cell_type": "code",
   "execution_count": null,
   "id": "f884362a",
   "metadata": {},
   "outputs": [],
   "source": [
    "with open(None,'wb') as file_to_write:\n",
    "    s3.download_fileobj(None,None, file_to_write)"
   ]
  },
  {
   "cell_type": "markdown",
   "id": "a34fe3c2",
   "metadata": {},
   "source": [
    "## Delete a File from an S3 Bucket\n",
    "\n",
    "If you don't need a file anymore, you can easily delete a file from an S3 bucket using the `delete_object()` method. Simply pass in the name of the bucket and the key of the object you want to delete and it will be removed from the S3 bucket.\n",
    "\n",
    "```python\n",
    "#Example on how to delete a file from an S3 Bucket\n",
    "s3.delete_object(\n",
    "    Bucket = 'string',\n",
    "    Key = 'string'\n",
    ")\n",
    "\n",
    "```\n",
    "\n",
    "**Try It Out Yourself**: Fill in the `None` values to delete a file from an S3 bucket."
   ]
  },
  {
   "cell_type": "code",
   "execution_count": null,
   "id": "2939887f",
   "metadata": {},
   "outputs": [],
   "source": [
    "s3.delete_object(\n",
    "    Bucket = None,\n",
    "    Key = None\n",
    ")"
   ]
  },
  {
   "cell_type": "markdown",
   "id": "fe4b51ee",
   "metadata": {},
   "source": [
    "**Congratulations** You now know the basics of interacting with S3 using Python and the Boto3 library. There are many other things you can do with S3. To see the full documentation, go to this link [here](https://boto3.amazonaws.com/v1/documentation/api/latest/reference/services/s3.html#S3.Client.delete_object).\n",
    "\n",
    "## *Challenge Time*\n",
    "In the code block below, create a program that does the following:\n",
    "* Gets all of the buckets in your account.\n",
    "* Gets all of the objects within each bucket.\n",
    "* For each object in each bucket, check to see if the object has been in the bucket for more than 3 days.\n",
    "* If so, download the file to your computer and delete the file in the S3 bucket.\n",
    "\n",
    "### Tips\n",
    "1. You will need to use the `datetime` library to check how long the object has been in the S3 bucket."
   ]
  },
  {
   "cell_type": "code",
   "execution_count": null,
   "id": "a5a5f50b",
   "metadata": {},
   "outputs": [],
   "source": []
  }
 ],
 "metadata": {
  "kernelspec": {
   "display_name": "Python 3",
   "language": "python",
   "name": "python3"
  },
  "language_info": {
   "codemirror_mode": {
    "name": "ipython",
    "version": 3
   },
   "file_extension": ".py",
   "mimetype": "text/x-python",
   "name": "python",
   "nbconvert_exporter": "python",
   "pygments_lexer": "ipython3",
   "version": "3.8.8"
  }
 },
 "nbformat": 4,
 "nbformat_minor": 5
}
