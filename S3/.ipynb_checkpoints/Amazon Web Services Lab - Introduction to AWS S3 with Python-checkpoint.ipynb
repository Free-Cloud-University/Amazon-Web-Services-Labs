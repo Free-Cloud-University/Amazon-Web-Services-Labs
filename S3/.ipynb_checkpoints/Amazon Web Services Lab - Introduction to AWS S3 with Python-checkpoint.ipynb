{
 "cells": [
  {
   "cell_type": "markdown",
   "id": "1a032117",
   "metadata": {},
   "source": [
    "# Amazon Web Services Lab: Introduction to AWS S3 with Python\n",
    "*By Nile Dixon from Free Cloud University*\n",
    "\n",
    "**Goal** The purpose of this lab is to expose you to Amazon S3 with Python. By the end of this lab, you should be able to:\n",
    "* Create an S3 Bucket\n",
    "* Upload a file to that S3 Bucket\n",
    "* Read a file from an S3 Bucket\n",
    "* Update a file in an S3 Bucket\n",
    "* Delete a file from an S3 Bucket"
   ]
  },
  {
   "cell_type": "markdown",
   "id": "05137a18",
   "metadata": {},
   "source": [
    "## Make sure that you have boto3 installed\n",
    "\n",
    "Before you can continue with this lab, you need to have the following installed:\n",
    "* Python 3\n",
    "* boto3 library (via pip)\n",
    "\n",
    "You can check to see if Python is installed "
   ]
  }
 ],
 "metadata": {
  "kernelspec": {
   "display_name": "Python 3",
   "language": "python",
   "name": "python3"
  },
  "language_info": {
   "codemirror_mode": {
    "name": "ipython",
    "version": 3
   },
   "file_extension": ".py",
   "mimetype": "text/x-python",
   "name": "python",
   "nbconvert_exporter": "python",
   "pygments_lexer": "ipython3",
   "version": "3.8.8"
  }
 },
 "nbformat": 4,
 "nbformat_minor": 5
}
