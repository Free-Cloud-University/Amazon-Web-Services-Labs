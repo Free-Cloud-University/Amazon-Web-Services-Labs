{
 "cells": [
  {
   "cell_type": "markdown",
   "id": "fbe3a993",
   "metadata": {},
   "source": [
    "# Amazon Web Services Lab: Introduction to AWS DynamoDB with Python\n",
    "*By Nile Dixon from Free Cloud University*\n",
    "\n",
    "**Goal** The purpose of this lab is to expose you to DynamoDB with Python. By the end of this lab, you should be able to:\n",
    "* Create a DynamoDB Table\n",
    "* Insert data into a DynamoDB Table\n"
   ]
  }
 ],
 "metadata": {
  "kernelspec": {
   "display_name": "Python 3",
   "language": "python",
   "name": "python3"
  },
  "language_info": {
   "codemirror_mode": {
    "name": "ipython",
    "version": 3
   },
   "file_extension": ".py",
   "mimetype": "text/x-python",
   "name": "python",
   "nbconvert_exporter": "python",
   "pygments_lexer": "ipython3",
   "version": "3.8.8"
  }
 },
 "nbformat": 4,
 "nbformat_minor": 5
}
