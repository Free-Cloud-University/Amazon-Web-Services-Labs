{
 "cells": [
  {
   "cell_type": "markdown",
   "id": "41e10d08",
   "metadata": {},
   "source": [
    "# Amazon Web Services Lab: Introduction to AWS CodeCommit with Python\n",
    "*By Nile Dixon from Free Cloud University*\n",
    "\n",
    "**Goal** The purpose of this lab is to expose you to AWS CodeCommit with Python. By the end of this lab, you should be able to:\n",
    "* Create a repository\n",
    "* Get a repository\n",
    "* List repositories\n",
    "* Delete a repository\n",
    "* Create a branch\n",
    "* Get a branch\n",
    "* List branches\n",
    "* Delete a branch\n",
    "* Create a commit\n",
    "* "
   ]
  },
  {
   "cell_type": "code",
   "execution_count": 1,
   "id": "fa9ae1e3",
   "metadata": {},
   "outputs": [
    {
     "name": "stdout",
     "output_type": "stream",
     "text": [
      "Python 3.8.8\r\n"
     ]
    }
   ],
   "source": [
    "!python --version"
   ]
  },
  {
   "cell_type": "code",
   "execution_count": 2,
   "id": "cf65b6d9",
   "metadata": {},
   "outputs": [
    {
     "name": "stdout",
     "output_type": "stream",
     "text": [
      "Requirement already satisfied: boto3 in /home/nile/Downloads/ENTER/lib/python3.8/site-packages (1.18.29)\r\n",
      "Requirement already satisfied: jmespath<1.0.0,>=0.7.1 in /home/nile/Downloads/ENTER/lib/python3.8/site-packages (from boto3) (0.10.0)\r\n",
      "Requirement already satisfied: s3transfer<0.6.0,>=0.5.0 in /home/nile/Downloads/ENTER/lib/python3.8/site-packages (from boto3) (0.5.0)\r\n",
      "Requirement already satisfied: botocore<1.22.0,>=1.21.29 in /home/nile/Downloads/ENTER/lib/python3.8/site-packages (from boto3) (1.21.29)\r\n",
      "Requirement already satisfied: python-dateutil<3.0.0,>=2.1 in /home/nile/Downloads/ENTER/lib/python3.8/site-packages (from botocore<1.22.0,>=1.21.29->boto3) (2.8.1)\r\n",
      "Requirement already satisfied: urllib3<1.27,>=1.25.4 in /home/nile/Downloads/ENTER/lib/python3.8/site-packages (from botocore<1.22.0,>=1.21.29->boto3) (1.26.4)\r\n",
      "Requirement already satisfied: six>=1.5 in /home/nile/Downloads/ENTER/lib/python3.8/site-packages (from python-dateutil<3.0.0,>=2.1->botocore<1.22.0,>=1.21.29->boto3) (1.15.0)\r\n"
     ]
    }
   ],
   "source": [
    "!pip install boto3"
   ]
  },
  {
   "cell_type": "code",
   "execution_count": 3,
   "id": "be831982",
   "metadata": {},
   "outputs": [],
   "source": [
    "import boto3\n",
    "import json \n",
    "\n",
    "#Loading in credentials from the credentials.json file in the same directory\n",
    "creds = {}\n",
    "with open('credentials.json','r') as file_to_read:\n",
    "    creds = json.load(file_to_read)\n",
    "\n",
    "#Logging into AWS CodeCommit with credentials\n",
    "codecommit = boto3.client(\n",
    "    'codecommit',\n",
    "    region_name = 'us-east-1',\n",
    "    aws_access_key_id=creds['aws_access_key_id'],\n",
    "    aws_secret_access_key=creds['aws_access_secret_key']\n",
    ")"
   ]
  },
  {
   "cell_type": "code",
   "execution_count": 7,
   "id": "ffed6477",
   "metadata": {},
   "outputs": [],
   "source": [
    "#Create a repository\n",
    "test_repo = codecommit.create_repository(\n",
    "    repositoryName='test-repository-2',\n",
    "    repositoryDescription='A Simple Test for Creating Repository'\n",
    ")"
   ]
  },
  {
   "cell_type": "code",
   "execution_count": 8,
   "id": "2f6cea0f",
   "metadata": {},
   "outputs": [
    {
     "data": {
      "text/plain": [
       "{'repositories': [{'repositoryName': 'test-repository',\n",
       "   'repositoryId': 'f92ecadc-f83a-4714-b83f-2eea145bc4c7'},\n",
       "  {'repositoryName': 'test-repository-2',\n",
       "   'repositoryId': '5e81fe18-a9dd-478e-a290-94a186c3f8ea'}],\n",
       " 'ResponseMetadata': {'RequestId': 'a1f1b32c-0796-42ad-9020-3d145c6d9d97',\n",
       "  'HTTPStatusCode': 200,\n",
       "  'HTTPHeaders': {'x-amzn-requestid': 'a1f1b32c-0796-42ad-9020-3d145c6d9d97',\n",
       "   'content-type': 'application/x-amz-json-1.1',\n",
       "   'content-length': '202',\n",
       "   'date': 'Sat, 28 Aug 2021 04:32:38 GMT'},\n",
       "  'RetryAttempts': 0}}"
      ]
     },
     "execution_count": 8,
     "metadata": {},
     "output_type": "execute_result"
    }
   ],
   "source": [
    "#List the repositories\n",
    "codecommit.list_repositories()"
   ]
  },
  {
   "cell_type": "code",
   "execution_count": 12,
   "id": "1edd6fae",
   "metadata": {},
   "outputs": [
    {
     "data": {
      "text/plain": [
       "{'repositoryMetadata': {'accountId': '063876205198',\n",
       "  'repositoryId': '5e81fe18-a9dd-478e-a290-94a186c3f8ea',\n",
       "  'repositoryName': 'test-repository-2',\n",
       "  'repositoryDescription': 'A Simple Test for Creating Repository',\n",
       "  'lastModifiedDate': datetime.datetime(2021, 8, 27, 23, 32, 32, 887000, tzinfo=tzlocal()),\n",
       "  'creationDate': datetime.datetime(2021, 8, 27, 23, 32, 32, 887000, tzinfo=tzlocal()),\n",
       "  'cloneUrlHttp': 'https://git-codecommit.us-east-1.amazonaws.com/v1/repos/test-repository-2',\n",
       "  'cloneUrlSsh': 'ssh://git-codecommit.us-east-1.amazonaws.com/v1/repos/test-repository-2',\n",
       "  'Arn': 'arn:aws:codecommit:us-east-1:063876205198:test-repository-2'},\n",
       " 'ResponseMetadata': {'RequestId': '6822aa31-3fcb-41e5-bc67-47a885c36f89',\n",
       "  'HTTPStatusCode': 200,\n",
       "  'HTTPHeaders': {'x-amzn-requestid': '6822aa31-3fcb-41e5-bc67-47a885c36f89',\n",
       "   'content-type': 'application/x-amz-json-1.1',\n",
       "   'content-length': '521',\n",
       "   'date': 'Sat, 28 Aug 2021 04:35:11 GMT'},\n",
       "  'RetryAttempts': 0}}"
      ]
     },
     "execution_count": 12,
     "metadata": {},
     "output_type": "execute_result"
    }
   ],
   "source": [
    "#Get the repository information\n",
    "repository_name = test_repo['repositoryMetadata']['repositoryName']\n",
    "test_repo_info = codecommit.get_repository(\n",
    "    repositoryName = repository_name\n",
    ")\n",
    "test_repo_info"
   ]
  },
  {
   "cell_type": "code",
   "execution_count": 13,
   "id": "4a17ca30",
   "metadata": {},
   "outputs": [
    {
     "data": {
      "text/plain": [
       "{'ResponseMetadata': {'RequestId': '35c043e1-5aaf-4fcd-b9fb-3b8356a7bb9c',\n",
       "  'HTTPStatusCode': 200,\n",
       "  'HTTPHeaders': {'x-amzn-requestid': '35c043e1-5aaf-4fcd-b9fb-3b8356a7bb9c',\n",
       "   'content-type': 'application/x-amz-json-1.1',\n",
       "   'content-length': '0',\n",
       "   'date': 'Sat, 28 Aug 2021 04:40:30 GMT'},\n",
       "  'RetryAttempts': 0}}"
      ]
     },
     "execution_count": 13,
     "metadata": {},
     "output_type": "execute_result"
    }
   ],
   "source": [
    "#Change the repository's name\n",
    "codecommit.update_repository_name(\n",
    "    oldName = repository_name,\n",
    "    newName = 'updated-repo-name'\n",
    ")"
   ]
  },
  {
   "cell_type": "code",
   "execution_count": 14,
   "id": "df94a310",
   "metadata": {},
   "outputs": [
    {
     "data": {
      "text/plain": [
       "{'ResponseMetadata': {'RequestId': '411af069-cc5a-44f7-aab7-d2a8a5c2ddb6',\n",
       "  'HTTPStatusCode': 200,\n",
       "  'HTTPHeaders': {'x-amzn-requestid': '411af069-cc5a-44f7-aab7-d2a8a5c2ddb6',\n",
       "   'content-type': 'application/x-amz-json-1.1',\n",
       "   'content-length': '0',\n",
       "   'date': 'Sat, 28 Aug 2021 04:41:33 GMT'},\n",
       "  'RetryAttempts': 0}}"
      ]
     },
     "execution_count": 14,
     "metadata": {},
     "output_type": "execute_result"
    }
   ],
   "source": [
    "#Change the description of a repository\n",
    "codecommit.update_repository_description(\n",
    "    repositoryName = 'updated-repo-name',\n",
    "    repositoryDescription = 'This is an updated description of the repository.'\n",
    ")"
   ]
  },
  {
   "cell_type": "code",
   "execution_count": 15,
   "id": "8d46dc98",
   "metadata": {},
   "outputs": [
    {
     "data": {
      "text/plain": [
       "{'branches': [],\n",
       " 'ResponseMetadata': {'RequestId': 'd3ebfe81-28a1-4de0-a85e-33e4fcd1709a',\n",
       "  'HTTPStatusCode': 200,\n",
       "  'HTTPHeaders': {'x-amzn-requestid': 'd3ebfe81-28a1-4de0-a85e-33e4fcd1709a',\n",
       "   'content-type': 'application/x-amz-json-1.1',\n",
       "   'content-length': '15',\n",
       "   'date': 'Sat, 28 Aug 2021 04:45:34 GMT'},\n",
       "  'RetryAttempts': 0}}"
      ]
     },
     "execution_count": 15,
     "metadata": {},
     "output_type": "execute_result"
    }
   ],
   "source": [
    "#Create a commit to a repository\n",
    "response = client.create_commit(\n",
    "    repositoryName='updated-repo-name',\n",
    "    branchName='main',\n",
    "    parentCommitId='string',\n",
    "    authorName='string',\n",
    "    email='string',\n",
    "    commitMessage='string',\n",
    "    putFiles=[\n",
    "        {\n",
    "            'filePath': 'string',\n",
    "            'fileMode': 'NORMAL',\n",
    "            'sourceFile': {\n",
    "                'filePath': 'string',\n",
    "                'isMove': True|False\n",
    "            }\n",
    "        },\n",
    "    ]\n",
    ")\n"
   ]
  },
  {
   "cell_type": "code",
   "execution_count": null,
   "id": "83783c04",
   "metadata": {},
   "outputs": [],
   "source": []
  }
 ],
 "metadata": {
  "kernelspec": {
   "display_name": "Python 3",
   "language": "python",
   "name": "python3"
  },
  "language_info": {
   "codemirror_mode": {
    "name": "ipython",
    "version": 3
   },
   "file_extension": ".py",
   "mimetype": "text/x-python",
   "name": "python",
   "nbconvert_exporter": "python",
   "pygments_lexer": "ipython3",
   "version": "3.8.8"
  }
 },
 "nbformat": 4,
 "nbformat_minor": 5
}
